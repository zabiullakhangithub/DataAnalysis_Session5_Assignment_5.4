{
 "cells": [
  {
   "cell_type": "code",
   "execution_count": 2,
   "metadata": {},
   "outputs": [
    {
     "name": "stdout",
     "output_type": "stream",
     "text": [
      "[25. 35. 45. 55. 65. 75. 85.]\n",
      "[  5.           4.66666667   5.66666667   6.66666667   9.66666667\n",
      "  28.66666667  49.33333333  72.66666667  84.          93.33333333\n",
      " 116.33333333]\n"
     ]
    }
   ],
   "source": [
    "import numpy as np\n",
    "from numpy import convolve\n",
    "import matplotlib.pyplot as plt\n",
    " \n",
    "def movingaverage (values, window):\n",
    "    weights = np.repeat(1.0, window)/window\n",
    "   # print(weights)\n",
    "    sma = np.convolve(values, weights, 'valid')\n",
    "   # print(sma)\n",
    "    return sma\n",
    " \n",
    "x = [10,20,30,40,50,60,70,80,90,100]\n",
    "y = [3, 5, 7, 2, 8, 10, 11, 65, 72, 81, 99, 100, 150] \n",
    " \n",
    "xMA = movingaverage(x,4)\n",
    "print(xMA)\n",
    "\n",
    "yMA = movingaverage(y,3)\n",
    "print(yMA)"
   ]
  },
  {
   "cell_type": "code",
   "execution_count": null,
   "metadata": {},
   "outputs": [],
   "source": []
  }
 ],
 "metadata": {
  "kernelspec": {
   "display_name": "Python 3",
   "language": "python",
   "name": "python3"
  },
  "language_info": {
   "codemirror_mode": {
    "name": "ipython",
    "version": 3
   },
   "file_extension": ".py",
   "mimetype": "text/x-python",
   "name": "python",
   "nbconvert_exporter": "python",
   "pygments_lexer": "ipython3",
   "version": "3.6.4"
  }
 },
 "nbformat": 4,
 "nbformat_minor": 2
}
